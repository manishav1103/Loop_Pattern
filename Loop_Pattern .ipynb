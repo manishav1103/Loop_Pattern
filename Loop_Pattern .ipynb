{
 "cells": [
  {
   "cell_type": "code",
   "execution_count": 1,
   "metadata": {
    "colab": {
     "base_uri": "https://localhost:8080/"
    },
    "id": "yrSXJcVwFzr9",
    "outputId": "c7357a26-6864-4cc2-f6ea-dd9e5a44b138"
   },
   "outputs": [
    {
     "name": "stdout",
     "output_type": "stream",
     "text": [
      "1 \n",
      "1 2 \n",
      "1 2 3 \n",
      "1 2 3 4 \n",
      "1 2 3 4 5 \n"
     ]
    }
   ],
   "source": [
    "for i in range(1, 6):\n",
    "   for j in range(1, i+1):\n",
    "       print(j, end = \" \")\n",
    "   print()"
   ]
  },
  {
   "cell_type": "code",
   "execution_count": 2,
   "metadata": {
    "colab": {
     "base_uri": "https://localhost:8080/"
    },
    "id": "dFnh7j6CF3Er",
    "outputId": "438035b5-b05b-4303-d487-96d47d819c2f"
   },
   "outputs": [
    {
     "name": "stdout",
     "output_type": "stream",
     "text": [
      "5 4 3 2 1 \n",
      "5 4 3 2 \n",
      "5 4 3 \n",
      "5 4 \n",
      "5 \n"
     ]
    }
   ],
   "source": [
    "for i in range(5,0,-1):\n",
    "   for j in range(5, 5-i,-1):\n",
    "       print(j, end = \" \")\n",
    "   print()"
   ]
  },
  {
   "cell_type": "code",
   "execution_count": 3,
   "metadata": {
    "colab": {
     "base_uri": "https://localhost:8080/"
    },
    "id": "5gerbLXdF8fg",
    "outputId": "fe14fcc7-f951-4346-f9fe-eeb225264a10"
   },
   "outputs": [
    {
     "name": "stdout",
     "output_type": "stream",
     "text": [
      "5 5 5 5 5 \n",
      "4 4 4 4 \n",
      "3 3 3 \n",
      "2 2 \n",
      "1 \n"
     ]
    }
   ],
   "source": [
    "for i in range(5, 0, -1):\n",
    "   for j in range(i):\n",
    "       print(i, end = \" \")\n",
    "   print()"
   ]
  },
  {
   "cell_type": "code",
   "execution_count": 4,
   "metadata": {
    "colab": {
     "base_uri": "https://localhost:8080/"
    },
    "id": "mtQ0JtGNGDwG",
    "outputId": "c3f1bed2-2074-4f16-afb6-b7294d6a18ca"
   },
   "outputs": [
    {
     "name": "stdout",
     "output_type": "stream",
     "text": [
      "1 2 3 4 5 \n",
      "1 2 3 4 \n",
      "1 2 3 \n",
      "1 2 \n",
      "1 \n",
      "\n"
     ]
    }
   ],
   "source": [
    "for i in range(6,0,-1):\n",
    "   for j in range(1, i):\n",
    "       print(j, end = \" \")\n",
    "   print()"
   ]
  },
  {
   "cell_type": "code",
   "execution_count": 5,
   "metadata": {
    "colab": {
     "base_uri": "https://localhost:8080/"
    },
    "id": "VU4JHUmNGiSY",
    "outputId": "8ecaa7b6-2cd6-40a7-c60a-c0087174790f"
   },
   "outputs": [
    {
     "name": "stdout",
     "output_type": "stream",
     "text": [
      "1 \n",
      "2 2 \n",
      "3 3 3 \n",
      "4 4 4 4 \n",
      "5 5 5 5 5 \n"
     ]
    }
   ],
   "source": [
    "for i in range(1, 6):\n",
    "   for j in range(1, i+1):\n",
    "       print(i, end = \" \")\n",
    "   print()\n"
   ]
  },
  {
   "cell_type": "code",
   "execution_count": 6,
   "metadata": {
    "colab": {
     "base_uri": "https://localhost:8080/"
    },
    "id": "RWhy8inZGjIt",
    "outputId": "9a33da4d-af8b-41b4-84c2-086e8ce88009"
   },
   "outputs": [
    {
     "name": "stdout",
     "output_type": "stream",
     "text": [
      "5 \n",
      "4 4 \n",
      "3 3 3 \n",
      "2 2 2 2 \n",
      "1 1 1 1 1 \n"
     ]
    }
   ],
   "source": [
    "for i in range(5, 0,-1):\n",
    "    for j in range(6,i,-1):\n",
    "        print(i, end = \" \")\n",
    "    print()\n"
   ]
  },
  {
   "cell_type": "code",
   "execution_count": 7,
   "metadata": {
    "colab": {
     "base_uri": "https://localhost:8080/"
    },
    "id": "bG9I_4fHGn4_",
    "outputId": "f3e3c02f-e44b-45f2-bb3c-daa7a0c08d7f"
   },
   "outputs": [
    {
     "name": "stdout",
     "output_type": "stream",
     "text": [
      "5 \n",
      "5 4 \n",
      "5 4 3 \n",
      "5 4 3 2 \n",
      "5 4 3 2 1 \n"
     ]
    }
   ],
   "source": [
    "\n",
    "for i in range(5, 0,-1):\n",
    "    for j in range(5,i-1,-1):\n",
    "        print(j, end = \" \")\n",
    "    print()"
   ]
  },
  {
   "cell_type": "code",
   "execution_count": 8,
   "metadata": {
    "colab": {
     "base_uri": "https://localhost:8080/"
    },
    "id": "y9t4ztXDGu5A",
    "outputId": "823a14c2-4586-492d-8829-34461ff42190"
   },
   "outputs": [
    {
     "name": "stdout",
     "output_type": "stream",
     "text": [
      "        1 \n",
      "      1 2 \n",
      "    1 2 3 \n",
      "  1 2 3 4 \n",
      "1 2 3 4 5 \n"
     ]
    }
   ],
   "source": [
    "for i in range(5):\n",
    "   for j in range(5-i-1):\n",
    "     print(\" \",end=\" \")\n",
    "   for j in range(i+1):\n",
    "     print(j+1, end=\" \")\n",
    "   print()"
   ]
  },
  {
   "cell_type": "code",
   "execution_count": 9,
   "metadata": {
    "colab": {
     "base_uri": "https://localhost:8080/"
    },
    "id": "Q0iAtLsgGyC3",
    "outputId": "e2436abf-ff21-4e68-d845-d248664fcf28"
   },
   "outputs": [
    {
     "name": "stdout",
     "output_type": "stream",
     "text": [
      "        1 \n",
      "      2 2 \n",
      "    3 3 3 \n",
      "  4 4 4 4 \n",
      "5 5 5 5 5 \n"
     ]
    }
   ],
   "source": [
    "for i in range(5):\n",
    "   for j in range(5-i-1):\n",
    "     print(\" \",end=\" \")\n",
    "   for j in range(i+1):\n",
    "     print(i+1, end=\" \")\n",
    "   print()"
   ]
  },
  {
   "cell_type": "code",
   "execution_count": 10,
   "metadata": {
    "colab": {
     "base_uri": "https://localhost:8080/"
    },
    "id": "cCcdAGRHG04O",
    "outputId": "4faf08b7-e087-4033-dd5d-912adf855bd8"
   },
   "outputs": [
    {
     "name": "stdout",
     "output_type": "stream",
     "text": [
      "        1 \n",
      "      2 1 \n",
      "    3 2 1 \n",
      "  4 3 2 1 \n",
      "5 4 3 2 1 \n"
     ]
    }
   ],
   "source": [
    "for i in range(5):\n",
    "    for j in range(5-i-1):\n",
    "      print(\" \", end=\" \")\n",
    "    for j in range(i+1, 0, -1):\n",
    "      print(j, end=\" \")\n",
    "    print()\n"
   ]
  },
  {
   "cell_type": "code",
   "execution_count": 11,
   "metadata": {
    "colab": {
     "base_uri": "https://localhost:8080/"
    },
    "id": "t4WGErLYG4K6",
    "outputId": "e1440560-32b1-4e4e-b2cf-b7c2696dd372"
   },
   "outputs": [
    {
     "name": "stdout",
     "output_type": "stream",
     "text": [
      "1 \n",
      "2 1 \n",
      "3 2 1 \n",
      "4 3 2 1 \n",
      "5 4 3 2 1 \n"
     ]
    }
   ],
   "source": [
    "for i in range(1, 6):\n",
    "   for j in range(i, 0, -1):     \n",
    "        print(j, end = \" \") \n",
    "   print()\n"
   ]
  },
  {
   "cell_type": "code",
   "execution_count": 12,
   "metadata": {
    "colab": {
     "base_uri": "https://localhost:8080/"
    },
    "id": "-88lHT3xKsQt",
    "outputId": "665b013a-7a4f-432f-d3f2-10267f613465"
   },
   "outputs": [
    {
     "name": "stdout",
     "output_type": "stream",
     "text": [
      "1 \n",
      "2 3 \n",
      "4 5 6 \n"
     ]
    }
   ],
   "source": [
    "c = 1\n",
    "st = 2\n",
    "for i in range(3):\n",
    "     for j in range(1, st):     \n",
    "           print(c, end=\" \")     \n",
    "           c += 1 \n",
    "     print() \n",
    "     st = st+1"
   ]
  },
  {
   "cell_type": "code",
   "execution_count": 13,
   "metadata": {
    "colab": {
     "base_uri": "https://localhost:8080/"
    },
    "id": "JEvTO0AcKxlq",
    "outputId": "171f5541-5aae-40c8-b136-cf8331fb83ed"
   },
   "outputs": [
    {
     "name": "stdout",
     "output_type": "stream",
     "text": [
      "1 \n",
      "2 3 4 \n",
      "5 6 7 8 9 \n"
     ]
    }
   ],
   "source": [
    "c = 1\n",
    "st = 2\n",
    "for i in range(3):\n",
    "     for j in range(1, st):     \n",
    "           print(c, end=\" \")     \n",
    "           c += 1 \n",
    "     print() \n",
    "     st = st+2"
   ]
  },
  {
   "cell_type": "code",
   "execution_count": 14,
   "metadata": {
    "colab": {
     "base_uri": "https://localhost:8080/"
    },
    "id": "2Ub_ubuaKyhe",
    "outputId": "c9f29c2a-f67a-44b3-ae27-b18561d90e77"
   },
   "outputs": [
    {
     "name": "stdout",
     "output_type": "stream",
     "text": [
      "0 \n",
      "0 1 \n",
      "0 2 4 \n",
      "0 3 6 9 \n",
      "0 4 8 12 16 \n"
     ]
    }
   ],
   "source": [
    "for i in range(0, 5):\n",
    "   for j in range(0, i+1):\n",
    "     print(j*i, end = \" \")\n",
    "   print()"
   ]
  },
  {
   "cell_type": "code",
   "execution_count": 15,
   "metadata": {
    "colab": {
     "base_uri": "https://localhost:8080/"
    },
    "id": "qnO2XMKKK6MW",
    "outputId": "96a7f327-c871-4040-de59-21c3ca9dd129"
   },
   "outputs": [
    {
     "name": "stdout",
     "output_type": "stream",
     "text": [
      "0 \n",
      "0 1 \n",
      "0 1 4 \n",
      "0 1 4 9 \n",
      "0 1 4 9 16 \n"
     ]
    }
   ],
   "source": [
    "for i in range(0, 5):\n",
    "   for j in range(0, i+1):\n",
    "     print(j*j, end = \" \")\n",
    "   print()"
   ]
  },
  {
   "cell_type": "code",
   "execution_count": 16,
   "metadata": {
    "colab": {
     "base_uri": "https://localhost:8080/"
    },
    "id": "rL5froYuLEJK",
    "outputId": "924dc9bb-8bee-4a5e-f0d5-8cfda8a8f30f"
   },
   "outputs": [
    {
     "name": "stdout",
     "output_type": "stream",
     "text": [
      "1 \n",
      "4 4 \n",
      "9 9 9 \n",
      "16 16 16 16 \n",
      "25 25 25 25 25 \n"
     ]
    }
   ],
   "source": [
    "for i in range(1,6):\n",
    "   for j in range(1,i+1):\n",
    "     print(i*i, end = \" \") #print(i**2, end = \" \") can also be written\n",
    "   print()"
   ]
  },
  {
   "cell_type": "code",
   "execution_count": 17,
   "metadata": {
    "colab": {
     "base_uri": "https://localhost:8080/"
    },
    "id": "nR0KOw6SLKbG",
    "outputId": "c97792a4-932f-4300-de67-1c1c407e4025"
   },
   "outputs": [
    {
     "name": "stdout",
     "output_type": "stream",
     "text": [
      "1 \n",
      "3 3 \n",
      "5 5 5 \n",
      "7 7 7 7 \n",
      "9 9 9 9 9 \n"
     ]
    }
   ],
   "source": [
    "for i in range(1,6):\n",
    "   for j in range(1,i+1):\n",
    "     print(i*2-1, end = \" \")\n",
    "   print()"
   ]
  },
  {
   "cell_type": "code",
   "execution_count": 18,
   "metadata": {
    "colab": {
     "base_uri": "https://localhost:8080/"
    },
    "id": "4biKyChDLNxp",
    "outputId": "78f993ca-f95d-4541-92de-434c430aa568"
   },
   "outputs": [
    {
     "name": "stdout",
     "output_type": "stream",
     "text": [
      " * \n",
      " *  * \n",
      " *  *  * \n",
      " *  *  *  * \n",
      " *  *  *  *  * \n"
     ]
    }
   ],
   "source": [
    "for i in range(1,6):\n",
    "   for j in range(i):\n",
    "       print(\" * \", end = \"\")\n",
    "   print( )"
   ]
  },
  {
   "cell_type": "code",
   "execution_count": 19,
   "metadata": {
    "colab": {
     "base_uri": "https://localhost:8080/"
    },
    "id": "NikLcmLmLTHe",
    "outputId": "9472c185-540f-4220-8bb6-4f4ec7cde9f2"
   },
   "outputs": [
    {
     "name": "stdout",
     "output_type": "stream",
     "text": [
      " *  *  *  *  * \n",
      " *  *  *  * \n",
      " *  *  * \n",
      " *  * \n",
      " * \n"
     ]
    }
   ],
   "source": [
    "for i in range(5,0,-1):\n",
    "    for j in range(i):\n",
    "        print(\" * \", end = \"\")\n",
    "    print( )"
   ]
  },
  {
   "cell_type": "code",
   "execution_count": 20,
   "metadata": {
    "colab": {
     "base_uri": "https://localhost:8080/"
    },
    "id": "SoDQBI8VLWT1",
    "outputId": "9efa4acb-44f4-4730-fd88-0076b6ff929f"
   },
   "outputs": [
    {
     "name": "stdout",
     "output_type": "stream",
     "text": [
      "        * \n",
      "      * * \n",
      "    * * * \n",
      "  * * * * \n",
      "* * * * * \n"
     ]
    }
   ],
   "source": [
    "n=5\n",
    "sp = 2 * n - 2\n",
    "for i in range(0, n):\n",
    "   for j in range(0, sp):\n",
    "     print(end=\" \")\n",
    "   sp = sp - 2\n",
    "   for j in range(0, i + 1):\n",
    "     print(\"* \", end = \"\")\n",
    "   print()"
   ]
  },
  {
   "cell_type": "code",
   "execution_count": 21,
   "metadata": {
    "colab": {
     "base_uri": "https://localhost:8080/"
    },
    "id": "5motvw51LZ_1",
    "outputId": "919e00b7-9a39-4c00-ae11-a904ba52a952"
   },
   "outputs": [
    {
     "name": "stdout",
     "output_type": "stream",
     "text": [
      "1 2 3 4 5 \n",
      "1 2 3 4 5 \n",
      "1 2 3 4 5 \n",
      "1 2 3 4 5 \n",
      "1 2 3 4 5 \n",
      "1 2 3 4 5 \n"
     ]
    }
   ],
   "source": [
    "for i in range(6):\n",
    "   for j in range(1,6):\n",
    "     print(j, end = \" \")\n",
    "   print()\n"
   ]
  },
  {
   "cell_type": "code",
   "execution_count": 22,
   "metadata": {
    "colab": {
     "base_uri": "https://localhost:8080/"
    },
    "id": "X3IZSOmFLbD_",
    "outputId": "aefefe5c-505a-463b-b307-352b2180c4d2"
   },
   "outputs": [
    {
     "name": "stdout",
     "output_type": "stream",
     "text": [
      "1 1 1 1 1 \n",
      "2 2 2 2 2 \n",
      "3 3 3 3 3 \n",
      "4 4 4 4 4 \n",
      "5 5 5 5 5 \n"
     ]
    }
   ],
   "source": [
    "for i in range(1,6):\n",
    "   for j in range(1,6):\n",
    "     print(i, end = \" \")\n",
    "   print()"
   ]
  },
  {
   "cell_type": "code",
   "execution_count": 23,
   "metadata": {
    "id": "q3labxY4LiDY"
   },
   "outputs": [
    {
     "name": "stdout",
     "output_type": "stream",
     "text": [
      "A \n",
      "A B \n",
      "A B C \n",
      "A B C D \n",
      "A B C D E\n"
     ]
    }
   ],
   "source": [
    "str = \"A B C D E\"\n",
    "for i in range(1, 6):\n",
    "   print(str[ : i*2])"
   ]
  },
  {
   "cell_type": "code",
   "execution_count": 24,
   "metadata": {
    "id": "MQji-c4XLmTm"
   },
   "outputs": [
    {
     "name": "stdout",
     "output_type": "stream",
     "text": [
      "A\n",
      "BB\n",
      "CCC\n",
      "DDDD\n",
      "EEEEE\n"
     ]
    }
   ],
   "source": [
    "str = \"ABCDE\"\n",
    "for i in range(5):\n",
    "   print(str[i]*(i+1))"
   ]
  },
  {
   "cell_type": "code",
   "execution_count": 25,
   "metadata": {
    "colab": {
     "base_uri": "https://localhost:8080/"
    },
    "id": "ncLsDmuALsdV",
    "outputId": "89bc0261-de4c-44eb-b4e9-d2b30a346852"
   },
   "outputs": [
    {
     "name": "stdout",
     "output_type": "stream",
     "text": [
      "         * \n",
      "       * * * \n",
      "     * * * * * \n",
      "   * * * * * * * \n",
      " * * * * * * * * * \n"
     ]
    }
   ],
   "source": [
    "num = 5\n",
    "for i in range (1, num + 1):\n",
    "      sp = (num - i) * \"  \"\n",
    "      print(sp, end = \" \")\n",
    "      for k in range(i, 1, -1):\n",
    "          print(\"*\", end = \" \")\n",
    "      for j in range(1, i + 1):\n",
    "          print(\"*\", end = \" \")\n",
    "      print()"
   ]
  },
  {
   "cell_type": "code",
   "execution_count": 26,
   "metadata": {
    "colab": {
     "base_uri": "https://localhost:8080/"
    },
    "id": "1kuSM6_nLxy7",
    "outputId": "01236e16-5248-4a95-c945-18d789d0717b"
   },
   "outputs": [
    {
     "name": "stdout",
     "output_type": "stream",
     "text": [
      "\n",
      "p \n",
      "p y \n",
      "p y t \n",
      "p y t h \n",
      "p y t h o \n",
      "p y t h o n \n"
     ]
    }
   ],
   "source": [
    "str = \"python\"\n",
    "for i in range(len(str)+1):\n",
    "   for j in range(i):\n",
    "     print(str[j], end = \" \")\n",
    "   print()"
   ]
  },
  {
   "cell_type": "code",
   "execution_count": 27,
   "metadata": {
    "colab": {
     "base_uri": "https://localhost:8080/"
    },
    "id": "OxuCfRGmMAPH",
    "outputId": "31ee9a11-0d60-4492-9011-e0ea182c2500"
   },
   "outputs": [
    {
     "name": "stdout",
     "output_type": "stream",
     "text": [
      "         1 \n",
      "       2 2 2 \n",
      "     3 3 3 3 3 \n",
      "   4 4 4 4 4 4 4 \n",
      " 5 5 5 5 5 5 5 5 5 \n"
     ]
    }
   ],
   "source": [
    "num = 5\n",
    "for i in range (1, num + 1):\n",
    "      sp = (num - i) * \"  \"\n",
    "      print(sp, end = \" \")\n",
    "      for k in range(i, 1, -1):\n",
    "          print(i, end = \" \")\n",
    "      for j in range(1, i + 1):\n",
    "          print(i, end = \" \")\n",
    "      print()"
   ]
  },
  {
   "cell_type": "code",
   "execution_count": null,
   "metadata": {
    "id": "cVzBMVAeMBNr"
   },
   "outputs": [],
   "source": []
  }
 ],
 "metadata": {
  "colab": {
   "name": "Loop Pattern.ipynb",
   "provenance": []
  },
  "kernelspec": {
   "display_name": "Python 3 (ipykernel)",
   "language": "python",
   "name": "python3"
  },
  "language_info": {
   "codemirror_mode": {
    "name": "ipython",
    "version": 3
   },
   "file_extension": ".py",
   "mimetype": "text/x-python",
   "name": "python",
   "nbconvert_exporter": "python",
   "pygments_lexer": "ipython3",
   "version": "3.9.13"
  }
 },
 "nbformat": 4,
 "nbformat_minor": 1
}
